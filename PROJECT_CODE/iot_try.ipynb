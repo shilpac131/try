{
 "cells": [
  {
   "cell_type": "code",
   "execution_count": 1,
   "metadata": {},
   "outputs": [
    {
     "name": "stdout",
     "output_type": "stream",
     "text": [
      "['very dry' 'dry' 'wet' 'very dry' 'very wet' 'very wet' 'wet' 'very dry'\n",
      " 'very dry' 'very dry' 'very dry' 'wet' 'very dry' 'very wet' 'very dry'\n",
      " 'dry' 'very dry' 'wet' 'wet' 'very dry' 'very dry' 'dry' 'wet' 'very dry'\n",
      " 'very dry' 'wet' 'very wet' 'very dry' 'wet' 'very dry' 'very dry'\n",
      " 'very dry' 'very dry' 'very wet' 'very wet' 'very dry' 'wet' 'very dry'\n",
      " 'very dry' 'very dry' 'dry' 'dry' 'very wet' 'very dry' 'very dry' 'wet'\n",
      " 'dry' 'very dry' 'very wet' 'very dry' 'very dry' 'very dry' 'very dry'\n",
      " 'very dry' 'very wet' 'very dry' 'very dry' 'very dry' 'very wet'\n",
      " 'very dry' 'very dry' 'very wet' 'very dry' 'very wet' 'very dry' 'dry'\n",
      " 'very dry' 'very wet' 'very dry' 'very dry' 'very wet' 'wet']\n",
      "Accuracy: 0.8888888888888888\n"
     ]
    },
    {
     "data": {
      "image/png": "[encoded data removed]",
      "text/plain": [
       "<Figure size 360x360 with 1 Axes>"
      ]
     },
     "metadata": {
      "needs_background": "light"
     },
     "output_type": "display_data"
    }
   ],
   "source": [
    "#Predict_OUT(dataList)\n",
    "\n",
    "\n",
    "import numpy as np\n",
    "import matplotlib.pyplot as plt\n",
    "import pandas as pd\n",
    "import pickle\n",
    "\n",
    "dataset=pd.read_csv(\"/home/sc/Documents/iot_project/apnadata.csv\")\n",
    "dataset.head()\n",
    "\n",
    "\n",
    "X = dataset.iloc[:, [0, 2, 3]].values\n",
    "Y = dataset.iloc[:, 4].values\n",
    "# Splitting the dataset into the Training set and Test set\n",
    "from sklearn.model_selection import train_test_split\n",
    "X_train, X_test, y_train, y_test = train_test_split(X, Y, test_size = 0.25, random_state =0)\n",
    "# Fitting KNN to the Training set\n",
    "from sklearn.neighbors import KNeighborsClassifier\n",
    "classifier = KNeighborsClassifier(n_neighbors =7 , metric = 'minkowski', p = 2)\n",
    "classifier.fit(X_train, y_train)\n",
    "\n",
    "\n",
    "# Predicting the Test set results\n",
    "y_pred = classifier.predict(X_test)\n",
    "\n",
    "\n",
    "# In[66]:\n",
    "\n",
    "\n",
    "print(y_pred)\n",
    "\n",
    "# In[63]:\n",
    "\n",
    "\n",
    "# for accuracy calculation\n",
    "from sklearn import metrics\n",
    "\n",
    "print(\"Accuracy:\",metrics.accuracy_score(y_test, y_pred))\n",
    "\n",
    "import seaborn as sns\n",
    "sns.lmplot(x=\"SM_Per\", y=\"Temp\", data=dataset, hue=\"Class\", fit_reg=False, legend=False)\n",
    "plt.legend()\n",
    "plt.show()\n"
   ]
  },
  {
   "cell_type": "code",
   "execution_count": 2,
   "metadata": {},
   "outputs": [
    {
     "data": {
      "text/html": [
       "<div>\n",
       "<style scoped>\n",
       "    .dataframe tbody tr th:only-of-type {\n",
       "        vertical-align: middle;\n",
       "    }\n",
       "\n",
       "    .dataframe tbody tr th {\n",
       "        vertical-align: top;\n",
       "    }\n",
       "\n",
       "    .dataframe thead th {\n",
       "        text-align: right;\n",
       "    }\n",
       "</style>\n",
       "<table border=\"1\" class=\"dataframe\">\n",
       "  <thead>\n",
       "    <tr style=\"text-align: right;\">\n",
       "      <th></th>\n",
       "      <th>Soil Moisture</th>\n",
       "      <th>SM_Per</th>\n",
       "      <th>Temp</th>\n",
       "      <th>Humidity</th>\n",
       "      <th>Class</th>\n",
       "    </tr>\n",
       "  </thead>\n",
       "  <tbody>\n",
       "    <tr>\n",
       "      <th>0</th>\n",
       "      <td>1023.0</td>\n",
       "      <td>0.0</td>\n",
       "      <td>35</td>\n",
       "      <td>40</td>\n",
       "      <td>very dry</td>\n",
       "    </tr>\n",
       "    <tr>\n",
       "      <th>1</th>\n",
       "      <td>1023.0</td>\n",
       "      <td>0.0</td>\n",
       "      <td>35</td>\n",
       "      <td>40</td>\n",
       "      <td>very dry</td>\n",
       "    </tr>\n",
       "    <tr>\n",
       "      <th>2</th>\n",
       "      <td>1023.0</td>\n",
       "      <td>0.0</td>\n",
       "      <td>35</td>\n",
       "      <td>41</td>\n",
       "      <td>very dry</td>\n",
       "    </tr>\n",
       "    <tr>\n",
       "      <th>3</th>\n",
       "      <td>1023.0</td>\n",
       "      <td>0.0</td>\n",
       "      <td>35</td>\n",
       "      <td>42</td>\n",
       "      <td>very dry</td>\n",
       "    </tr>\n",
       "    <tr>\n",
       "      <th>4</th>\n",
       "      <td>1023.0</td>\n",
       "      <td>0.0</td>\n",
       "      <td>34</td>\n",
       "      <td>42</td>\n",
       "      <td>very dry</td>\n",
       "    </tr>\n",
       "  </tbody>\n",
       "</table>\n",
       "</div>"
      ],
      "text/plain": [
       "   Soil Moisture  SM_Per  Temp  Humidity     Class\n",
       "0         1023.0     0.0    35        40  very dry\n",
       "1         1023.0     0.0    35        40  very dry\n",
       "2         1023.0     0.0    35        41  very dry\n",
       "3         1023.0     0.0    35        42  very dry\n",
       "4         1023.0     0.0    34        42  very dry"
      ]
     },
     "execution_count": 2,
     "metadata": {},
     "output_type": "execute_result"
    }
   ],
   "source": [
    "dataset.head()"
   ]
  },
  {
   "cell_type": "code",
   "execution_count": 8,
   "metadata": {},
   "outputs": [
    {
     "data": {
      "image/png": "[encoded data removed]",
      "text/plain": [
       "<Figure size 432x288 with 1 Axes>"
      ]
     },
     "metadata": {
      "needs_background": "light"
     },
     "output_type": "display_data"
    }
   ],
   "source": [
    "plt.bar(dataset.Class,dataset.Temp, color = 'b') #recovered by region\n",
    "plt.title('Soil Variety')\n",
    "plt.ylabel('Temperature')\n",
    "plt.xticks(rotation=0)\n",
    "plt.show()"
   ]
  },
  {
   "cell_type": "code",
   "execution_count": 13,
   "metadata": {},
   "outputs": [
    {
     "name": "stderr",
     "output_type": "stream",
     "text": [
      "No handles with labels found to put in legend.\n"
     ]
    },
    {
     "data": {
      "text/plain": [
       "<matplotlib.legend.Legend at 0x7f3b8819e5d0>"
      ]
     },
     "execution_count": 13,
     "metadata": {},
     "output_type": "execute_result"
    },
    {
     "data": {
      "image/png": "[encoded data removed]",
      "text/plain": [
       "<Figure size 432x432 with 1 Axes>"
      ]
     },
     "metadata": {
      "needs_background": "light"
     },
     "output_type": "display_data"
    }
   ],
   "source": [
    "plt.figure(figsize=(6, 6))\n",
    "x = dataset['SM_Per']\n",
    "y = [ 'Class']\n",
    "plt.ylabel('Number of cases')\n",
    "plt.xticks(rotation=90)\n",
    "plt.title('Cases over time')\n",
    "plt.legend(bbox_to_anchor=(1.05, 1), loc='upper left', borderaxespad=0.)"
   ]
  },
  {
   "cell_type": "code",
   "execution_count": null,
   "metadata": {},
   "outputs": [],
   "source": []
  }
 ],
 "metadata": {
  "kernelspec": {
   "display_name": "Python 3",
   "language": "python",
   "name": "python3"
  },
  "language_info": {
   "codemirror_mode": {
    "name": "ipython",
    "version": 3
   },
   "file_extension": ".py",
   "mimetype": "text/x-python",
   "name": "python",
   "nbconvert_exporter": "python",
   "pygments_lexer": "ipython3",
   "version": "3.7.5"
  }
 },
 "nbformat": 4,
 "nbformat_minor": 4
}
